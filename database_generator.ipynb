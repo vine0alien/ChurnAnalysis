{
 "cells": [
  {
   "cell_type": "code",
   "execution_count": 24,
   "metadata": {},
   "outputs": [],
   "source": [
    "import pandas as pd\n",
    "import random\n",
    "from faker import Faker"
   ]
  },
  {
   "cell_type": "code",
   "execution_count": 25,
   "metadata": {},
   "outputs": [],
   "source": [
    "def generate_customer_data(num_rows):\n",
    "    data=[]\n",
    "    fake = Faker()\n",
    "    for _ in range(num_rows):\n",
    "        data.append({\n",
    "        'customer_id': 'ID'+str(random.randint(1000,65000)),\n",
    "        'e-mail': fake.email(),\n",
    "        'city': fake.city(),\n",
    "        'country': fake.country(),\n",
    "        'SKU': 'A'+str(random.randint(10000,62300)),\n",
    "        'age': random.randint(18,65),\n",
    "        'acquisition_date': fake.date_between_dates(date_start='-5y', date_end='now'),\n",
    "    })\n",
    "    return pd.DataFrame(data)"
   ]
  },
  {
   "cell_type": "code",
   "execution_count": 26,
   "metadata": {},
   "outputs": [],
   "source": [
    "churn_data = generate_customer_data(100000)"
   ]
  },
  {
   "cell_type": "code",
   "execution_count": 27,
   "metadata": {},
   "outputs": [],
   "source": [
    "churn_data['acquisition_date'] = pd.to_datetime(churn_data['acquisition_date'])\n",
    "client_ID = churn_data['customer_id']\n",
    "client_ID = pd.DataFrame(client_ID)\n",
    "client_ID = client_ID.drop_duplicates(subset=['customer_id'])\n",
    "client_ID['gender'] = client_ID.apply(lambda i: random.choices(['male', 'female', 'NoAnswer'],\\\n",
    "     weights=[0.2, 0.7, 0.1])[0], axis=1)\n",
    "churn_data['last_purchase'] = churn_data.groupby('customer_id')['acquisition_date'].transform('max')"
   ]
  },
  {
   "cell_type": "code",
   "execution_count": 28,
   "metadata": {},
   "outputs": [],
   "source": [
    "SKU_Price = churn_data['SKU']\n",
    "SKU_Price = pd.DataFrame(SKU_Price)\n",
    "SKU_Price = SKU_Price.drop_duplicates(subset=['SKU'])\n",
    "SKU_Price['Price'] = SKU_Price.apply(lambda i: random.randint(50, 450), axis=1)\n",
    "SKU_Price['Price'] = SKU_Price['Price'].astype(float)\n",
    "SKU_Price['Price'] = SKU_Price['Price']-0.1"
   ]
  },
  {
   "cell_type": "code",
   "execution_count": 29,
   "metadata": {},
   "outputs": [],
   "source": [
    "churn_data = pd.merge(client_ID, churn_data, on='customer_id')\n",
    "churn_data = pd.merge(SKU_Price, churn_data, on='SKU')"
   ]
  },
  {
   "cell_type": "code",
   "execution_count": 30,
   "metadata": {},
   "outputs": [],
   "source": [
    "churn_data.to_csv(r'seu caminho', index=False)"
   ]
  }
 ],
 "metadata": {
  "kernelspec": {
   "display_name": "Python 3",
   "language": "python",
   "name": "python3"
  },
  "language_info": {
   "codemirror_mode": {
    "name": "ipython",
    "version": 3
   },
   "file_extension": ".py",
   "mimetype": "text/x-python",
   "name": "python",
   "nbconvert_exporter": "python",
   "pygments_lexer": "ipython3",
   "version": "3.13.0"
  }
 },
 "nbformat": 4,
 "nbformat_minor": 2
}
